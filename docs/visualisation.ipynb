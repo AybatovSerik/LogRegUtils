{
 "cells": [
  {
   "cell_type": "markdown",
   "metadata": {},
   "source": [
    "# Визуализация\n",
    "\n",
    "В модуле собраны скрипты для визуализации данных. В основном они полезны для анализа задачи бинарной классификации.\n",
    "\n",
    "Для начала сгенерируем игрушечный пример."
   ]
  },
  {
   "cell_type": "code",
   "execution_count": null,
   "metadata": {},
   "outputs": [],
   "source": [
    "from sklearn.datasets import make_classification\n",
    "import pandas as pd\n",
    "import numpy as np\n",
    "\n",
    "np.random.seed(42)\n",
    "\n",
    "N=10000\n",
    "\n",
    "X, y = make_classification(n_features=4, n_samples=N)\n",
    "\n",
    "df = pd.DataFrame(X, columns=['feature_%d' % i for i in range(X.shape[1])])\n",
    "df['y'] = y\n",
    "df['sample_date'] = np.random.choice(pd.date_range('2025-01-01', '2025-12-31'), N)\n",
    "df['category_feature'] = np.random.choice(['foo', 'bar', np.nan], N)\n",
    "\n",
    "df.head(2)"
   ]
  },
  {
   "cell_type": "markdown",
   "metadata": {},
   "source": [
    "В игрушечной выборке содержатся:\n",
    "\n",
    "*  несколько признаков `feature_*`\n",
    "*  бинарная целевая переменная - `y`\n",
    "*  поле с датой - `sample_date`\n",
    "*  категорияльное поле `category_feature`\n",
    "\n",
    "Для работы скриптов потребуется пакет [holoviews](http://holoviews.org). Большинство скриптов - функции, возвращающие одну картинку, а точнее [Overlay](http://holoviews.org/reference/containers/bokeh/Overlay.html) с различными точками, линиями, ...  "
   ]
  },
  {
   "cell_type": "code",
   "execution_count": null,
   "metadata": {},
   "outputs": [],
   "source": [
    "import holoviews as hv\n",
    "hv.extension('matplotlib')"
   ]
  },
  {
   "cell_type": "markdown",
   "metadata": {},
   "source": [
    "Проилюстируем работу некоторых функций"
   ]
  },
  {
   "cell_type": "code",
   "execution_count": null,
   "metadata": {},
   "outputs": [],
   "source": [
    "from risksutils.visualization import woe_line, woe_stab, cross_tab, isotonic, distribution"
   ]
  },
  {
   "cell_type": "markdown",
   "metadata": {},
   "source": [
    "### woe_line"
   ]
  },
  {
   "cell_type": "code",
   "execution_count": null,
   "metadata": {},
   "outputs": [],
   "source": [
    "woe_line(df=df, feature='feature_2', target='y', num_buck=30)"
   ]
  },
  {
   "cell_type": "markdown",
   "metadata": {},
   "source": [
    "Данная функция разбивает числовой признак `feature` на `num_buck` бакетов. И в каждом бакете считается <br>\n",
    "$\\text{Weight of Evidence} = \\ln\\left(\\frac{\\text{доля 1 в бакте}}{\\text{доля 0 в бакете}}\\right)\n",
    "- \\ln\\left(\\frac{\\text{доля 1 во всей выборке}}{\\text{доля 0 во всей выборке}}\\right)$.  \n",
    "\n",
    "Если в бакете доля объектов класса 1 совпадает с долей 1 во всей выборке, то $WoE = 0$. Если в бакете присутствуют только объекты одного класса, то WoE будет равно бесконечности – из-за взятия логарифма. В данной функции доля объектов каждого класса ограничивается 0.001 - снизу и 0.999 - сверху.\n",
    "\n",
    "На самом графике [woe_line](#woe_line) показана зависимость WoE в бакете от среднего значения признака `feature` в нем. \n",
    "\n",
    "На примере графика выше можно сказать, что среди объектов со значением feature_2 > 1 гораздо чаще присутствует 1."
   ]
  },
  {
   "cell_type": "markdown",
   "metadata": {},
   "source": [
    "### isotonic"
   ]
  },
  {
   "cell_type": "code",
   "execution_count": null,
   "metadata": {},
   "outputs": [],
   "source": [
    "isotonic(df=df, predict='feature_2', target='y')"
   ]
  },
  {
   "cell_type": "markdown",
   "metadata": {},
   "source": [
    "График [isotonic](#isotonic) похож на график [woe_line](#woe_line) - так же отображается зависимость частоты объектов класса 1 от значений признака, только явная разбивка на бакеты отсутствует. Построение зависимости основано на [Isotonic Regression](http://scikit-learn.org/stable/auto_examples/plot_isotonic_regression.html), которая восстанавливает монотонную зависимость. \n",
    "\n",
    "Использовать [isotonic](#isotonic) совместно с доверительными интервалами удобно для проверки совпадения прогноза с фактическими данными. Так, как обычно, предполагается монотонное влияние прогноза на целевую переменную."
   ]
  },
  {
   "cell_type": "markdown",
   "metadata": {},
   "source": [
    "### distribution"
   ]
  },
  {
   "cell_type": "code",
   "execution_count": null,
   "metadata": {},
   "outputs": [],
   "source": [
    "distribution(df=df, feature='feature_2', date='sample_date', num_buck=4)"
   ]
  },
  {
   "cell_type": "markdown",
   "metadata": {},
   "source": [
    "Данная диаграмма отражает изменение распределений признака `feature` во времени `date`. Признак дискретезируется разбивкой на бакеты. Затем выборка разбивается на группы (по умолчанию на месяца – параметр `date_freq`), и в каждой группе считается доля объектов из каждого бакета. По данному графику [distribution](#distribution) удобно обнаруживать изменения в расчете признака во времени."
   ]
  },
  {
   "cell_type": "markdown",
   "metadata": {},
   "source": [
    "### woe_stab"
   ]
  },
  {
   "cell_type": "code",
   "execution_count": null,
   "metadata": {},
   "outputs": [],
   "source": [
    "woe_stab(df=df, feature='feature_2', target='y', date='sample_date', num_buck=3)"
   ]
  },
  {
   "cell_type": "markdown",
   "metadata": {},
   "source": [
    "На данном графике отображается изменение влияния признака `feature` на целевую переменную `target` во времени `date`. Для этого признак разбивается на бакеты и для каждой временной группы считаются значения WoE.\n",
    "\n",
    "В данном игрушечном примере видно, что влияние `feature_2` на `y` стабильно по времени. Это и должно быть, так как мы сгенерировали поле `sample_date` случайно и независимо от остальной выборки."
   ]
  },
  {
   "cell_type": "markdown",
   "metadata": {},
   "source": [
    "### cross_tab"
   ]
  },
  {
   "cell_type": "code",
   "execution_count": null,
   "metadata": {},
   "outputs": [],
   "source": [
    "cross_tab(df, 'feature_2', 'category_feature', 'y', num_buck1=3, num_buck2=3)"
   ]
  },
  {
   "cell_type": "markdown",
   "metadata": {},
   "source": [
    "Данный скрипт отличается тем, что возвращает не объект [holoviews](http://holoviews.org), а набор [pandas.dataframe](https://pandas.pydata.org/pandas-docs/stable/generated/pandas.DataFrame.html), а точнее набор [Styler](https://pandas.pydata.org/pandas-docs/stable/style.html) - dataframe c визуальными настройками. \n",
    "\n",
    "В [cross_tab](#cross_tab) визуализируется совместное влияние пары признаков на целевую переменную (аналогично [pandas.crosstab](https://pandas.pydata.org/pandas-docs/stable/generated/pandas.crosstab.html)). Каждый признак разбивается на бакеты и считается доля объектов класса 1 в каждой комбинации пары бакетов - первая таблица. А так же считается общее количество объектов - вторая таблица. Вместе с этим выводятся агрегированные статистики - последние строка и столбец."
   ]
  },
  {
   "cell_type": "markdown",
   "metadata": {},
   "source": [
    "### Настройка графиков\n",
    "\n",
    "Для придания графикам различных свойств используются [насторойки holoview](http://holoviews.org/user_guide/Customizing_Plots.html). Каждый тип графика состоит из набора базовых диаграмм, например, [woe_line](#woe_line) - это наложенные ([Overlay](http://holoviews.org/reference/containers/matplotlib/Overlay.html#matplotlib-gallery-overlay)) друг на друга диаграммы:\n",
    "\n",
    "* Диаграмма рассеивания ([Scatter](http://holoviews.org/reference/elements/matplotlib/Scatter.html#matplotlib-gallery-scatter)) со значениями WoE;\n",
    "* Диаграмма ошибок ([ErrorBars](http://holoviews.org/reference/elements/matplotlib/ErrorBars.html#matplotlib-gallery-errorbars)) со значениями доверительный интервалов для WoE;\n",
    "* Линия ([Curve](http://holoviews.org/reference/elements/matplotlib/Curve.html#matplotlib-gallery-curve)) с реультатом зависимости целевой переменной от признака из [логистической регрессии](http://scikit-learn.org/stable/modules/generated/sklearn.linear_model.LogisticRegression.html).\n",
    "\n",
    "Для того, чтобы вывести структуру диаграммы нужно вызвать `print` от неё."
   ]
  },
  {
   "cell_type": "code",
   "execution_count": null,
   "metadata": {},
   "outputs": [],
   "source": [
    "diagram = woe_line(df=df, feature='feature_2', target='y', num_buck=30)\n",
    "print(diagram)"
   ]
  },
  {
   "cell_type": "markdown",
   "metadata": {},
   "source": [
    "В выводе присутствуют в дополнение пользовательские названия диаграмм, например, \"Confident_Intervals\" для ErrorBars, а так же названия осей."
   ]
  },
  {
   "cell_type": "markdown",
   "metadata": {},
   "source": [
    "Для настройки графиков можно воспользоваться магической командой `%%opts`."
   ]
  },
  {
   "cell_type": "code",
   "execution_count": null,
   "metadata": {},
   "outputs": [],
   "source": [
    "%%opts Curve [xrotation=45 yaxis=None] (color='red') Scatter (marker='s' s=100)\n",
    "diagram"
   ]
  },
  {
   "cell_type": "markdown",
   "metadata": {},
   "source": [
    "Синтаксис команды следующий: `%%opts  Diagram [plotting options] (style options) {normalization}`:\n",
    "\n",
    "* `plotting options` (те, что в квадратных скобках) отвечают за функцианальное наполнение графиков, например, опцией `xrotation=45` мы повернули подписи у оси x на 45 градусов, а за счет `yaxis=None` убрали ось y. Заметим, что эти настройки были применены к типу Curve, но повлияли на всю диаграмму.\n",
    "* `style options` (в круглых скобках) изменяют визуальное оформление диаграмм. С помощью `color='red'` поменялся цвет у Curve, а с помощью `marker='s' s=100` мы сделали у Scatter маркеры в виде квадратов (squere) и размера 100.\n",
    "* `normalization` (в фигурных скобках) отвечает за связь разных диаграмм между собой. Далее мы рассмотрим пример.\n",
    "\n",
    "В jupyter notebook-ах для настроек работает автодополнение, например:\n",
    "\n",
    "* `%%opts C<TAB>` выдаст подсказки `Collator`, `Contours`, `Curve`;\n",
    "* `%%opts Curve [xaxis=None sh<TAB>` выдает `show_frame=`, `show_grid=`, ... .\n",
    "\n",
    "Для более подробного описания настроек можно вызвать справку, например, `hv.help(hv.Overlay)`, а так же посмотреть примеры из документации.\n",
    "\n",
    "Помимо настройки `%%opts` (с двумя процентами) так же есть и настройка `%opts` с одним они различаются следущим:\n",
    "\n",
    "* `%%opts` - локальные настройки, применяются ко всем диаграммам, созданным в данной ячейке;\n",
    "* `%opts` - глобальные настройки, применяется **ко всем диагрммам в ноутбуке**."
   ]
  },
  {
   "cell_type": "code",
   "execution_count": null,
   "metadata": {},
   "outputs": [],
   "source": [
    "simple_curve = hv.Curve([1, 3, 2, 4])\n",
    "diagram + simple_curve"
   ]
  },
  {
   "cell_type": "markdown",
   "metadata": {},
   "source": [
    "В примере выше я вывел вместе две диаграммы: `diagram` и созданную `Curve`, при этом настройки у `diagram` сохранились, так как мы их применили ячейкой выше, а у новой диаграммы они остались прежними. Если мы теперь захотим поменять настройки только у одной кривой из двух, можно воспользоваться её именем."
   ]
  },
  {
   "cell_type": "code",
   "execution_count": null,
   "metadata": {},
   "outputs": [],
   "source": [
    "print(diagram + simple_curve)"
   ]
  },
  {
   "cell_type": "code",
   "execution_count": null,
   "metadata": {},
   "outputs": [],
   "source": [
    "%%opts Curve.Logistic_interpolations (color='green') Curve (color='black')\n",
    "diagram + simple_curve"
   ]
  },
  {
   "cell_type": "markdown",
   "metadata": {},
   "source": [
    "Помимо настроек `%%opts` так же доступны настройки `%%output`, позволяющие менять размер и вывод"
   ]
  },
  {
   "cell_type": "code",
   "execution_count": null,
   "metadata": {},
   "outputs": [],
   "source": [
    "%%output size=50\n",
    "diagram"
   ]
  },
  {
   "cell_type": "markdown",
   "metadata": {},
   "source": [
    "Из полезных настроек: c помощью `%%output filename=` можно сохранить картинку в файл."
   ]
  },
  {
   "cell_type": "markdown",
   "metadata": {},
   "source": [
    "### Backend\n",
    "\n",
    "В самом начале мы подключали backend matplotlib с помощью `hv.extension('matplotlib')`, но нам так же доступен и другой backend -  [bokeh](https://bokeh.pydata.org/en/latest)."
   ]
  },
  {
   "cell_type": "code",
   "execution_count": null,
   "metadata": {},
   "outputs": [],
   "source": [
    "hv.extension('bokeh')"
   ]
  },
  {
   "cell_type": "code",
   "execution_count": null,
   "metadata": {},
   "outputs": [],
   "source": [
    "isotonic(df=df, predict='feature_2', target='y')"
   ]
  },
  {
   "cell_type": "markdown",
   "metadata": {},
   "source": [
    "В нем появляется возможность делать интерактивные диаграммы."
   ]
  },
  {
   "cell_type": "markdown",
   "metadata": {},
   "source": [
    "### Совмещение диаграмм\n",
    "\n",
    "Для визуализации данных бывает полезно выводить не по одной диаграмме а сразу несколько, и holoviews позволяет это сделать очень удобно.\n",
    "\n",
    "Над диаграммами переопределены арифметические операции:\n",
    "\n",
    "* `+` - [Layout](http://holoviews.org/reference/containers/matplotlib/Layout.html) рисует диаграммы рядом друг с другом;\n",
    "* `*` - [Overlay](http://holoviews.org/reference/containers/matplotlib/Overlay.html) накладывает диаграммы друг на друга."
   ]
  },
  {
   "cell_type": "code",
   "execution_count": null,
   "metadata": {},
   "outputs": [],
   "source": [
    "wl_2 = woe_line(df=df, feature='feature_2', target='y', num_buck=30)\n",
    "ws_2 = woe_stab(df=df, feature='feature_2', target='y', date='sample_date', num_buck=3)\n",
    "\n",
    "wl_2 + ws_2"
   ]
  },
  {
   "cell_type": "markdown",
   "metadata": {},
   "source": [
    "При рисовании диаграмм рядом друг с другом происходит совмещение осей (если они называются одинаково). Чтобы этого не происходило можно воспольоваться настройками normalization (те, что в фигурных скобках) - если добавить `%%opts Spread {+axiswise}`, то сцепление первого типа диаграммы `Spread` из второго графика `ws_2` пропадет."
   ]
  },
  {
   "cell_type": "markdown",
   "metadata": {},
   "source": [
    "Также есть удобная возможность рисовать сразу несколько диаграмм напрямую через конструктор `hv.Layout`."
   ]
  },
  {
   "cell_type": "code",
   "execution_count": null,
   "metadata": {},
   "outputs": [],
   "source": [
    "hv.extension('matplotlib')"
   ]
  },
  {
   "cell_type": "code",
   "execution_count": null,
   "metadata": {},
   "outputs": [],
   "source": [
    "%%opts Layout [hspace=1 vspace=0.5]\n",
    "\n",
    "features = ['feature_' + str(i) for i in range(4)] + ['category_feature']\n",
    "hv.Layout([woe_stab(df, f, 'y', 'sample_date', num_buck=3) for f in features]).cols(2)"
   ]
  },
  {
   "cell_type": "markdown",
   "metadata": {},
   "source": [
    "Внутри hv.Layout мы создали лист с пятью диаграммами, а вызвав метод `cols(2)` нарисовали все в 2 колонки.  \n",
    "Настройка `hspace=1` позволяет сделать отступы между графиками, расположенными горизонтально друг от друга для того, чтобы уместились легенды, а `vspace=0.5` - между вертикально расположенными графиками."
   ]
  },
  {
   "cell_type": "markdown",
   "metadata": {},
   "source": [
    "### Интерактивность\n",
    "\n",
    "Один из мощных инструментом в holoviews - это создание интерактивных графиков, позволящих с помощью виджетов перебирать различные диаграммы. Доступно два базовых типа:\n",
    "\n",
    "* [HoloMap](http://holoviews.org/reference/containers/matplotlib/HoloMap.html#matplotlib-gallery-holomap) - из словаря с ключем - название диаграммы, а значением самими диаграммами создается интервактивный график (пример ниже).\n",
    "* [DynamicMap](http://holoviews.org/reference/containers/matplotlib/DynamicMap.html#matplotlib-gallery-dynamicmap) - динамичная диаграммы, вычисляющая по положениям виджетов встроенную диаграмму. Для DynamicMap нужно задать функцию, которая это сделает и вычислению будут происходить только при запущенной сессии Python (за то не тратится место на хранение сразу всех диаграмм как у `HoloMap`)."
   ]
  },
  {
   "cell_type": "markdown",
   "metadata": {},
   "source": [
    "<div class=\"alert alert-info\">\n",
    "\n",
    "**Замечание**<br>\n",
    "В readthedocs поддержка отображения интерактивности holoviews не присутствует. Но если запустить ноутбук в jupyter, то она появится.<br>\n",
    "Для понимания того, как они работают можно посмотреть примеры со страницы [HoloMap](http://holoviews.org/reference/containers/matplotlib/HoloMap.html#matplotlib-gallery-holomap).\n",
    "\n",
    "</div>"
   ]
  },
  {
   "cell_type": "code",
   "execution_count": null,
   "metadata": {},
   "outputs": [],
   "source": [
    "# hv.extension('bokeh')\n",
    "# hv.HoloMap({i: woe_line(df, 'feature_2', 'y', num_buck=i) for i in range(10, 100, 50)}, kdims=['buckets'])"
   ]
  },
  {
   "cell_type": "markdown",
   "metadata": {},
   "source": [
    "В данном примере мы внутри `hv.Holomap` создали словарь с ключем `i` и значением - диаграммой woe_line, с разбивкой признака `feature_2` как раз на `i` бакетов. Теперь с помощью виджета можно посмотреть как меняется график при изменении количества бакетов. Видно, что график становится подробнее, вместе с тем растут доверительные интервалы у оцененных значений woe.\n",
    "\n",
    "Можно так же создавать сразу несколько виджетов, если ключ будет более сложным объектом tuple (в случае ниже пара - название признака и количество бакетов)."
   ]
  },
  {
   "cell_type": "code",
   "execution_count": null,
   "metadata": {},
   "outputs": [],
   "source": [
    "# hv.HoloMap({(f, i): woe_line(df, f, 'y', num_buck=i)\n",
    "#             for f in ['feature_1', 'feature_2']\n",
    "#             for i in [10, 100]}, kdims=['feature', 'buckets'])"
   ]
  },
  {
   "cell_type": "markdown",
   "metadata": {},
   "source": [
    "С другими интересными возможностями работы диаграмм стоит обращаться к документации [holoviews](http://holoviews.org)."
   ]
  }
 ],
 "metadata": {
  "kernelspec": {
   "display_name": "Python 3",
   "language": "python",
   "name": "python3"
  },
  "language_info": {
   "codemirror_mode": {
    "name": "ipython",
    "version": 3
   },
   "file_extension": ".py",
   "mimetype": "text/x-python",
   "name": "python",
   "nbconvert_exporter": "python",
   "pygments_lexer": "ipython3",
   "version": "3.6.3"
  }
 },
 "nbformat": 4,
 "nbformat_minor": 2
}
