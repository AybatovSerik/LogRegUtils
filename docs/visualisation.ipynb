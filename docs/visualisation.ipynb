{
 "cells": [
  {
   "cell_type": "markdown",
   "metadata": {},
   "source": [
    "# Визуализация\n",
    "\n",
    "В модуле собраны скрипты для визуализации данных. В основном они полезны для анализа задачи бинарной классификации.\n",
    "\n",
    "Для начала сгенерируем игрушечный пример."
   ]
  },
  {
   "cell_type": "code",
   "execution_count": null,
   "metadata": {
    "collapsed": true
   },
   "outputs": [],
   "source": [
    "from sklearn.datasets import make_classification\n",
    "import pandas as pd\n",
    "import numpy as np\n",
    "\n",
    "np.random.seed(42)\n",
    "\n",
    "N=10000\n",
    "\n",
    "X, y = make_classification(n_features=4, n_samples=N)\n",
    "\n",
    "df = pd.DataFrame(X, columns=['feature_%d' % i for i in range(X.shape[1])])\n",
    "df['y'] = y\n",
    "df['sample_date'] = np.random.choice(pd.date_range('2025-01-01', '2025-12-31'), N)\n",
    "df['category_feature'] = np.random.choice(['foo', 'bar', np.nan], N)\n",
    "\n",
    "df.head(2)"
   ]
  },
  {
   "cell_type": "markdown",
   "metadata": {},
   "source": [
    "В игрушечной выборке содержатся:\n",
    "\n",
    "*  несколько признаков `feature_*`\n",
    "*  бинарная целевая переменная - `y`\n",
    "*  поле с датой - `sample_date`\n",
    "*  категорияльное поле `category_feature`\n",
    "\n",
    "Для работы скриптов потребуется пакет [holoviews](http://holoviews.org). Большинство скриптов - функции, возвращающие одну картинку, а точнее [Overlay](http://holoviews.org/reference/containers/bokeh/Overlay.html) с различными точками, линимями, ...  "
   ]
  },
  {
   "cell_type": "code",
   "execution_count": null,
   "metadata": {
    "collapsed": true
   },
   "outputs": [],
   "source": [
    "import holoviews as hv\n",
    "hv.extension('matplotlib')"
   ]
  },
  {
   "cell_type": "markdown",
   "metadata": {},
   "source": [
    "Проилюстируем работу некоторых функций"
   ]
  },
  {
   "cell_type": "code",
   "execution_count": null,
   "metadata": {
    "collapsed": true
   },
   "outputs": [],
   "source": [
    "from risksutils.visualization import woe_line, woe_stab, cross_tab, isotonic, distribution"
   ]
  },
  {
   "cell_type": "markdown",
   "metadata": {},
   "source": [
    "### woe_line"
   ]
  },
  {
   "cell_type": "code",
   "execution_count": null,
   "metadata": {
    "collapsed": true
   },
   "outputs": [],
   "source": [
    "woe_line(df=df, feature='feature_2', target='y', num_buck=30)"
   ]
  },
  {
   "cell_type": "markdown",
   "metadata": {},
   "source": [
    "Данная функция разбивает числовой признак `feature` на `num_buck` бакетов. И в каждом бакете считается <br>\n",
    "$\\text{Weight of Evidence} = \\ln\\left(\\frac{\\text{доля 1 в бакте}}{\\text{доля 0 в бакете}}\\right)\n",
    "- \\ln\\left(\\frac{\\text{доля 1 во всей выборке}}{\\text{доля 0 во всей выборке}}\\right)$.  \n",
    "\n",
    "Если в бакете доля объектов класса 1 совпадает с долей 1 во всей выборке, то $WoE = 0$. Если в бакете присутствуют только объекты одного класса, то WoE будет равно бесконечности – из-за взятия логарифма. В данной функции доля объектов каждого класса ограничивается 0.001 - снизу и 0.999 - сверху.\n",
    "\n",
    "На самом графике [woe_line](#woe_line) показана зависимость WoE в бакете от среднего значения признака `feature` в нем. \n",
    "\n",
    "На примере графика выше можно сказать, что среди объектов со значением feature_2 > 1 гораздо чаще присутствует 1."
   ]
  },
  {
   "cell_type": "markdown",
   "metadata": {},
   "source": [
    "### isotonic"
   ]
  },
  {
   "cell_type": "code",
   "execution_count": null,
   "metadata": {
    "collapsed": true
   },
   "outputs": [],
   "source": [
    "isotonic(df=df, predict='feature_2', target='y')"
   ]
  },
  {
   "cell_type": "markdown",
   "metadata": {},
   "source": [
    "График [isotonic](#isotonic) похож на график [woe_line](#woe_line) - так же отображается зависимость частоты объектов класса 1 от значений признака, только явная разбивка на бакеты отсутствует. Построение зависимости основано на [Isotonic Regression](http://scikit-learn.org/stable/auto_examples/plot_isotonic_regression.html), которая восстанавливает монотонную зависимость. \n",
    "\n",
    "Использовать [isotonic](#isotonic) совместно с доверительными интервалами удобно для проверки совпадения прогноза с фактическими данными. Так, как обычно, предполагается монотонное влияние прогноза на целевую переменную."
   ]
  },
  {
   "cell_type": "markdown",
   "metadata": {},
   "source": [
    "### distribution"
   ]
  },
  {
   "cell_type": "code",
   "execution_count": null,
   "metadata": {
    "collapsed": true
   },
   "outputs": [],
   "source": [
    "distribution(df=df, feature='feature_2', date='sample_date', num_buck=4)"
   ]
  },
  {
   "cell_type": "markdown",
   "metadata": {},
   "source": [
    "Данная диаграмма отражает изменение распределений признака `feature` во времени `date`. Признак дискретезируется разбивкой на бакеты. Затем выборка разбивается на группы (по умолчанию на месяца – параметр `date_freq`), и в каждой группе считается доля объектов из каждого бакета. По данному графику [distribution](#distribution) удобно обнаруживать изменения в расчете признака во времени."
   ]
  },
  {
   "cell_type": "markdown",
   "metadata": {},
   "source": [
    "### woe_stab"
   ]
  },
  {
   "cell_type": "code",
   "execution_count": null,
   "metadata": {
    "collapsed": true
   },
   "outputs": [],
   "source": [
    "woe_stab(df=df, feature='feature_2', target='y', date='sample_date', num_buck=3)"
   ]
  },
  {
   "cell_type": "markdown",
   "metadata": {},
   "source": [
    "На данном графике отображается изменение влияния признака `feature` на целевую переменную `target` во времени `date`. Для этого признак разбивается на бакеты и для каждой временной группы считаются значения WoE.\n",
    "\n",
    "В данном игрушечном примере видно, что влияние `feature_2` на `y` стабильно по времени. Это и должно быть, так как мы сгенерировали поле `sample_date` случайно и независимо от остальной выборки."
   ]
  },
  {
   "cell_type": "markdown",
   "metadata": {},
   "source": [
    "### cross_tab"
   ]
  },
  {
   "cell_type": "code",
   "execution_count": null,
   "metadata": {
    "collapsed": true
   },
   "outputs": [],
   "source": [
    "cross_tab(df, 'feature_2', 'category_feature', 'y', num_buck1=3, num_buck2=3)"
   ]
  },
  {
   "cell_type": "markdown",
   "metadata": {},
   "source": [
    "Данный скрипт отличается тем, что возвращает не объект [holoviews](http://holoviews.org), а набор [pandas.dataframe](https://pandas.pydata.org/pandas-docs/stable/generated/pandas.DataFrame.html), а точнее набор [Styler](https://pandas.pydata.org/pandas-docs/stable/style.html) - dataframe c визуальными настройками. \n",
    "\n",
    "В [cross_tab](#cross_tab) визуализируется совместное влияние пары признаков на целевую переменную (аналогично [pandas.crosstab](https://pandas.pydata.org/pandas-docs/stable/generated/pandas.crosstab.html)). Каждый признак разбивается на бакеты и считается доля объектов класса 1 в каждой комбинации пары бакетов - первая таблица. А так же считается общее количество объектов - вторая таблица. Вместе с этим выводятся агрегированные статистики - последние строка и столбец."
   ]
  }
 ],
 "metadata": {
  "kernelspec": {
   "display_name": "Python 3",
   "language": "python",
   "name": "python3"
  },
  "language_info": {
   "codemirror_mode": {
    "name": "ipython",
    "version": 3
   },
   "file_extension": ".py",
   "mimetype": "text/x-python",
   "name": "python",
   "nbconvert_exporter": "python",
   "pygments_lexer": "ipython3",
   "version": "3.6.3"
  }
 },
 "nbformat": 4,
 "nbformat_minor": 2
}
