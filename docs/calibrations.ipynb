{
 "cells": [
  {
   "cell_type": "markdown",
   "metadata": {},
   "source": [
    "# Калибровка\n",
    "\n",
    "В задаче кредитного скоринга основной целевой переменной является факт выхода клиента в дефолт. С момента принятия решения по заявке на кредит до \"созревания\" целевой переменной проходят месяцы. Поэтому для обучения моделей используются данные с запаздыванием на существенной время. Иногда требуется добавить в модель эффекты по более актуальным данным, например, использую другие целевые переменные, \"созревающие\" быстрее."
   ]
  },
  {
   "cell_type": "markdown",
   "metadata": {},
   "source": [
    "В данном ноутбуке мы рассмотрим пример обучения логистичесокй регрессии для \"долго созревающей\" целевой переменной по последним данным по более \"короткой\" целевой переменной."
   ]
  },
  {
   "cell_type": "markdown",
   "metadata": {},
   "source": [
    "### Выборка\n",
    "Для начала сгенерируем выборку."
   ]
  },
  {
   "cell_type": "code",
   "execution_count": null,
   "metadata": {},
   "outputs": [],
   "source": [
    "import pandas as pd\n",
    "import numpy as np\n",
    "from scipy.special import expit\n",
    "\n",
    "np.random.seed(42)\n",
    "n = 10000\n",
    "\n",
    "df = pd.DataFrame()\n",
    "df['logit_main'] = np.random.randn(2 * n) * 0.5 - 1\n",
    "df.loc[:n-1, 'sample_date'] = np.random.choice(pd.date_range('2001-01-01', '2001-12-31'), n)\n",
    "df.loc[n:, 'sample_date'] = np.random.choice(pd.date_range('2002-01-01', '2002-12-31'), n)\n",
    "\n",
    "df.loc[:n-1, 'f'] = 0\n",
    "df.loc[n:, 'f'] = np.random.binomial(1, 0.6, size=n)\n",
    "\n",
    "df['logit'] = df['logit_main'] + 0.6 * df['f']\n",
    "\n",
    "df['y_long'] = np.random.binomial(1, expit(df['logit']))\n",
    "df['y_short'] = np.random.binomial(1, expit(2 * df['logit'] - 0.5))\n",
    "\n",
    "df.head(2)"
   ]
  },
  {
   "cell_type": "markdown",
   "metadata": {},
   "source": [
    "В игрушечной выборке содержатся:\n",
    "\n",
    "*  `logit_main` - признак, не меняющий своего влияния на целевые переменные со временем\n",
    "*  `sample_date` - дата\n",
    "*  `y_short`, `y_long` - \"короткая\" и \"длинная\" целевые переменные\n",
    "*  `f` - признак, меняющий свою логику со временем"
   ]
  },
  {
   "cell_type": "markdown",
   "metadata": {},
   "source": [
    "### Визуализация выборки"
   ]
  },
  {
   "cell_type": "code",
   "execution_count": null,
   "metadata": {},
   "outputs": [],
   "source": [
    "import holoviews as hv\n",
    "hv.extension('matplotlib')"
   ]
  },
  {
   "cell_type": "code",
   "execution_count": null,
   "metadata": {},
   "outputs": [],
   "source": [
    "from risksutils.visualization import distribution\n",
    "\n",
    "distribution(df, 'f', 'sample_date', date_freq='W')"
   ]
  },
  {
   "cell_type": "markdown",
   "metadata": {},
   "source": [
    "Признак `f` меняет свое распределение.\n",
    "\n",
    "Выборку условно можно разделить на:\n",
    "\n",
    "* Старую – 2001 год\n",
    "* Новую – 2002 год"
   ]
  },
  {
   "cell_type": "markdown",
   "metadata": {},
   "source": [
    "Имитирую возможную ситуацию мы будем считать, что на старых данных у нас есть \"созревшая\" \"длинная\" целевая переменная `y_long`, а вот на новых данных ее значений – нет. При этом мы хотим по влиянию признака `f` на \"короткую\" целевую переменную суметь понять, какое будет влияние на \"длиную\", глядя на \"новую\" выборку."
   ]
  },
  {
   "cell_type": "markdown",
   "metadata": {},
   "source": [
    "### Различие влияния на разных выборках\n",
    "\n",
    "В нашей сгенерированнй выборке признак `logit_main` содержит основной сигнал и на старых данных вероятность наступления события `y_long == 1` равна `1 / (1 + exp(-logit_main))`. А вот на новых данных из-за наличия признака `f` происходит смещение."
   ]
  },
  {
   "cell_type": "code",
   "execution_count": null,
   "metadata": {},
   "outputs": [],
   "source": [
    "from risksutils.visualization import isotonic\n",
    "\n",
    "df_old = df.query('sample_date <= \"2001-12-31\"').copy()\n",
    "df_new = df.query('sample_date >= \"2002-01-01\"').copy()\n",
    "\n",
    "df_old['prob'] = expit(df_old['logit_main'])\n",
    "df_new['prob'] = expit(df_new['logit_main'])\n",
    "\n",
    "iso_long_old = isotonic(df_old, 'prob', 'y_long').relabel('Old')\n",
    "iso_long_new = isotonic(df_new, 'prob', 'y_long').relabel('New')\n",
    "\n",
    "iso_long_old + iso_long_new"
   ]
  },
  {
   "cell_type": "markdown",
   "metadata": {},
   "source": [
    "На левой картине видно, что реальные значения частоты наступления события (ступеньки на диаграмме) лежат практичеки на диагонали, а вот на правой диаграмме по новой выборке виден эффект влияния признака `f`.\n",
    "\n",
    "Мы хотим извлечь этот эффект без наличия целевой переменной по новой выборки, но используя значение \"короткой\" целевой переменной."
   ]
  },
  {
   "cell_type": "markdown",
   "metadata": {},
   "source": [
    "Наримуем такие же картинки для короткой целевой переменной."
   ]
  },
  {
   "cell_type": "code",
   "execution_count": null,
   "metadata": {},
   "outputs": [],
   "source": [
    "iso_short_old = isotonic(df_old, 'prob', 'y_short').relabel('Old')\n",
    "iso_short_new = isotonic(df_new, 'prob', 'y_short').relabel('New')\n",
    "\n",
    "iso_short_old + iso_short_new"
   ]
  },
  {
   "cell_type": "markdown",
   "metadata": {},
   "source": [
    "Различие графиков тут так же есть, но влияние нашего прогноза не точное – левый график не лежит вблизи диагонали.\n",
    "\n",
    "Чтобы по влиянию на короткую целевую переменную делать выводы о влиянии на длинную нужно для начала понимать соотношение между ними. Для этого мы будем использовать старые данные, на которых представлены обе переменные."
   ]
  },
  {
   "cell_type": "markdown",
   "metadata": {},
   "source": [
    "### Соотношение между целевыми переменными"
   ]
  },
  {
   "cell_type": "markdown",
   "metadata": {},
   "source": [
    "Получить соотношение можно многими способами. Мы постоим две модели для обеих целевых переменных на старых данных и пройдя по небольшой сетке посчитаем значения прогнозов.\n",
    "\n",
    "В качестве модели возьмем логистическую регрессию, а признаком будет `logit_main`, содержащим сильный сигнал. \n",
    "Так как логистическая регрессия довольно скудный класс моделей, а мы хотим точнее определить эффекты, то мы используем разбивку признака на интервалы с помощью [сплайнов](http://patsy.readthedocs.io/en/stable/spline-regression.html). Получится, что вместо двух коэффициентов (константа и коэффициент перед признаком) мы будем искать коюффициенты для каждого интервала. Можно сказать, что модель у нас получится кусочно линейная."
   ]
  },
  {
   "cell_type": "code",
   "execution_count": null,
   "metadata": {},
   "outputs": [],
   "source": [
    "import statsmodels.formula.api as smf\n",
    "\n",
    "\n",
    "model_long = smf.logit('y_long ~ bs(logit_main, df=3, degree=1)', df_old).fit(disp=0)\n",
    "model_short = smf.logit('y_short ~ bs(logit_main, df=3, degree=1)', df_old).fit(disp=0)\n",
    "\n",
    "grid = pd.DataFrame()\n",
    "min_logit, max_logit = df_old.logit_main.min(), df_old.logit_main.max()\n",
    "grid['logit_main'] = np.linspace(min_logit, max_logit, 500)\n",
    "\n",
    "calibrations = pd.DataFrame()\n",
    "calibrations['y_long'] = model_long.predict(grid)\n",
    "calibrations['y_short'] = model_short.predict(grid)\n",
    "\n",
    "calibrations.head(2)"
   ]
  },
  {
   "cell_type": "markdown",
   "metadata": {},
   "source": [
    "В таблице указано поточечное соотношение между целевыми переменными. Можно изобразить его в виде графика."
   ]
  },
  {
   "cell_type": "code",
   "execution_count": null,
   "metadata": {},
   "outputs": [],
   "source": [
    "%matplotlib inline\n",
    "calibrations.plot(x='y_long', y='y_short', grid=True);"
   ]
  },
  {
   "cell_type": "markdown",
   "metadata": {},
   "source": [
    "У функции isotonic есть возможность удобно вставить данный график, только нужно указать, что мы считаем за прогноз - создать поле `predict`."
   ]
  },
  {
   "cell_type": "code",
   "execution_count": null,
   "metadata": {},
   "outputs": [],
   "source": [
    "calibrations['predict'] = calibrations['y_long']\n",
    "\n",
    "isotonic(df_new, 'prob', 'y_short', calibrations_data=calibrations)"
   ]
  },
  {
   "cell_type": "markdown",
   "metadata": {},
   "source": [
    "Видно, что на новых данный частота наступления события `y_short` оказывается выше, чем она должа быть судя по калибровке со старой выборки.\n",
    "\n",
    "Саму калибровку мы и используем для расчета модели по новым данным. Только нам необходимо её доопределить на всем интервале (0, 1). Для этого добавим пару строк в исходную таблицу с калибровками."
   ]
  },
  {
   "cell_type": "code",
   "execution_count": null,
   "metadata": {},
   "outputs": [],
   "source": [
    "calibrations.loc[-1, :] = 0\n",
    "calibrations.loc[-2, :] = 1\n",
    "calibrations.sort_values('y_long', inplace=True)\n",
    "calibrations.tail(2)"
   ]
  },
  {
   "cell_type": "markdown",
   "metadata": {},
   "source": [
    "###  Перекалибровка\n",
    "\n",
    "В логистической регрессии прогноз вероятности события складывается из линейной комбинации признаков и сигмоидного преобразования\n",
    "\n",
    "$$logit = w_0 + w_1 x_1 + ... w_n  x_n$$\n",
    "\n",
    "$$prob = 1 / (1 + exp(-logit))$$\n",
    "\n",
    "Помимо сигмоидного преобразования мы еще добавим кусочно линейное для расчета вероятности\n",
    "\n",
    "$$prob = calibration(1 / (1 + exp(-logit)))$$"
   ]
  },
  {
   "cell_type": "code",
   "execution_count": null,
   "metadata": {},
   "outputs": [],
   "source": [
    "from risksutils.models import recalibration"
   ]
  },
  {
   "cell_type": "code",
   "execution_count": null,
   "metadata": {},
   "outputs": [],
   "source": [
    "model = recalibration(df=df_new, features=['f', 'logit_main'], target='y_short',\n",
    "                      target_calibration='y_long', calibrations_data=calibrations)\n",
    "model.summary()"
   ]
  },
  {
   "cell_type": "markdown",
   "metadata": {},
   "source": [
    "Исходную сгенерированную зависимость мы восстановили `prob_long = 1 / (1 + exp(-(1 * logit_main + 0.6 * f))`"
   ]
  },
  {
   "cell_type": "markdown",
   "metadata": {},
   "source": [
    "Функция `recalibration` возвращает объект [GLMResultsWrapper](http://www.statsmodels.org/0.6.1/generated/statsmodels.genmod.generalized_linear_model.GLMResults.html?highlight=statsmodels.genmod.generalized_linear_model#statsmodels.genmod.generalized_linear_model.GLMResults) в нем сами параметры доступны через атрибут `params`."
   ]
  },
  {
   "cell_type": "code",
   "execution_count": null,
   "metadata": {},
   "outputs": [],
   "source": [
    "model.params"
   ]
  },
  {
   "cell_type": "markdown",
   "metadata": {},
   "source": [
    "Так же доступна возможность применить модель через метод `predict`, но тогда возвращаемое значение вероятности будет содержать и калибровку, то есть прогнозировать `y_short` в нашем случае, а не `y_long`."
   ]
  },
  {
   "cell_type": "markdown",
   "metadata": {},
   "source": [
    "### Использование сдвига"
   ]
  },
  {
   "cell_type": "markdown",
   "metadata": {},
   "source": [
    "Если мы уверены в каких-нибудь коэффициентах, то мы можем не нестраивать у них параметры, указав сдвиг `offset` в виде поля из таблицы.\n",
    "\n",
    "Например, мы можем не настраивать коэффициент перед `logit_main`, указав его в `offset`."
   ]
  },
  {
   "cell_type": "code",
   "execution_count": null,
   "metadata": {},
   "outputs": [],
   "source": [
    "recalibration(df_new, ['f'], 'y_short', 'y_long', calibrations, offset='logit_main').summary()"
   ]
  },
  {
   "cell_type": "markdown",
   "metadata": {},
   "source": [
    "В данном случае получили практически те же коэффициенты перед `f` и константой.\n",
    "\n",
    "Можно убрать из обучения и константу – `use_bias = False`."
   ]
  },
  {
   "cell_type": "code",
   "execution_count": null,
   "metadata": {},
   "outputs": [],
   "source": [
    "model = recalibration(df_new, ['f'], 'y_short', 'y_long', calibrations, 'logit_main', use_bias=False)\n",
    "model.summary()"
   ]
  },
  {
   "cell_type": "markdown",
   "metadata": {},
   "source": [
    "### Подсчет прогноза"
   ]
  },
  {
   "cell_type": "markdown",
   "metadata": {},
   "source": [
    "Для получения прогноза на `y_long` можно руками собать из коэффициентов `predict_custom`"
   ]
  },
  {
   "cell_type": "code",
   "execution_count": null,
   "metadata": {},
   "outputs": [],
   "source": [
    "predict_custom = expit(model.params['f'] * df_new['f'] + df_new['logit_main'])"
   ]
  },
  {
   "cell_type": "markdown",
   "metadata": {},
   "source": [
    "А можно посчитать сначала `predict_short` через метод `predict`, а затем выполнить обратное преобразования калибровки."
   ]
  },
  {
   "cell_type": "code",
   "execution_count": null,
   "metadata": {},
   "outputs": [],
   "source": [
    "from scipy.interpolate import interp1d\n",
    "calibration_func = interp1d(calibrations['y_short'], calibrations['y_long'])\n",
    "\n",
    "predict_short = model.predict(df_new, offset=df_new['logit_main'])\n",
    "predict_long = calibration_func(predict_short)\n",
    "\n",
    "assert np.allclose(predict_custom, predict_long)"
   ]
  },
  {
   "cell_type": "markdown",
   "metadata": {},
   "source": [
    "Второй способ может быть полезен для ситуации, когда признаков много или они задаются не списком, а формулой [patsy](https://patsy.readthedocs.io/en/latest/quickstart.html)."
   ]
  },
  {
   "cell_type": "markdown",
   "metadata": {},
   "source": [
    "### Интерактивные диаграммы"
   ]
  },
  {
   "cell_type": "markdown",
   "metadata": {},
   "source": [
    "При наличии различных целевых переменных, влиянии по времени полезно быстро визуализировать влияние прогноза."
   ]
  },
  {
   "cell_type": "code",
   "execution_count": null,
   "metadata": {},
   "outputs": [],
   "source": [
    "hv.extension('bokeh')\n",
    "from risksutils.visualization import InteractiveIsotonic"
   ]
  },
  {
   "cell_type": "markdown",
   "metadata": {},
   "source": [
    "Заполним в нашу исходную таблицу пару прогнозов `prob`, `prob_calibrate`"
   ]
  },
  {
   "cell_type": "code",
   "execution_count": null,
   "metadata": {},
   "outputs": [],
   "source": [
    "df['prob'] = expit(df['logit_main'])\n",
    "df['prob_calibrate'] = calibration_func(model.predict(df, offset=df['logit_main']))"
   ]
  },
  {
   "cell_type": "markdown",
   "metadata": {},
   "source": [
    "`InteractiveIsotonic` позволяет создавать набор связанных между собой диаграмм:\n",
    "\n",
    "* `isotonic` – визуализация зависимости частоты наступления события от прогноза. Содержит виджеты для каждого \n",
    "выбора прогноза `pdims` и для выбора целевой переменной `tdims`\n",
    "* диаграммы для категориальных полей, указанных\n",
    "    в `gdims`, и для временных, указанных в `ddims`"
   ]
  },
  {
   "cell_type": "code",
   "execution_count": null,
   "metadata": {},
   "outputs": [],
   "source": [
    "diagram = InteractiveIsotonic(df, pdims=['prob', 'prob_calibrate'], tdims=['y_short', 'y_long'], \n",
    "                              gdims=['f'], ddims=['sample_date'], calibrations_data=calibrations)"
   ]
  },
  {
   "cell_type": "markdown",
   "metadata": {},
   "source": [
    "Обращаться к диаграммым можно как к атрибутам"
   ]
  },
  {
   "cell_type": "code",
   "execution_count": null,
   "metadata": {},
   "outputs": [],
   "source": [
    "diagram.isotonic"
   ]
  },
  {
   "cell_type": "markdown",
   "metadata": {},
   "source": [
    "у диаграммы можно выбрать различные целевые переменные и различные прогнозы.  \n",
    "Если был задан аргумент `calibrations_data`, то будут рисоваться так же кривые калибровок."
   ]
  },
  {
   "cell_type": "markdown",
   "metadata": {},
   "source": [
    "<div class=\"alert alert-info\">\n",
    "\n",
    "**Замечание**<br>\n",
    "В readthedocs интерактивность не будет присутствовать, так как это просто статичный html.  Но если запустить ноутбук в jupyter, то она появится.\n",
    "\n",
    "</div>"
   ]
  },
  {
   "cell_type": "markdown",
   "metadata": {},
   "source": [
    "Если задать `gdims` и `ddims`, то можно строить диаграммы для количества объектов. При этом на диаграммах с помощью тулзы BoxSelect можно указать интересующую часть, тогда перестроятся все графики с учетом условия."
   ]
  },
  {
   "cell_type": "code",
   "execution_count": null,
   "metadata": {},
   "outputs": [],
   "source": [
    "%%opts Area [width=600]\n",
    "diagram.sample_date"
   ]
  },
  {
   "cell_type": "code",
   "execution_count": null,
   "metadata": {},
   "outputs": [],
   "source": [
    "diagram.f"
   ]
  }
 ],
 "metadata": {
  "kernelspec": {
   "display_name": "Python 3",
   "language": "python",
   "name": "python3"
  },
  "language_info": {
   "codemirror_mode": {
    "name": "ipython",
    "version": 3
   },
   "file_extension": ".py",
   "mimetype": "text/x-python",
   "name": "python",
   "nbconvert_exporter": "python",
   "pygments_lexer": "ipython3",
   "version": "3.6.3"
  }
 },
 "nbformat": 4,
 "nbformat_minor": 2
}
